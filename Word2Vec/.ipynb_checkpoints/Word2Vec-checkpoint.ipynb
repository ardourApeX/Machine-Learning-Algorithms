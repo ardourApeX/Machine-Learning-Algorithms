{
 "cells": [
  {
   "cell_type": "code",
   "execution_count": 1,
   "metadata": {},
   "outputs": [],
   "source": [
    "import gensim\n",
    "from gensim.models import word2vec\n",
    "from gensim.models import KeyedVectors\n",
    "from sklearn.metrics.pairwise import cosine_similarity"
   ]
  },
  {
   "cell_type": "markdown",
   "metadata": {},
   "source": [
    "**Donwload Pretrained Model form [here](https://drive.google.com/file/d/0B7XkCwpI5KDYNlNUTTlSS21pQmM/edit)**"
   ]
  },
  {
   "cell_type": "markdown",
   "metadata": {},
   "source": [
    "- ```KeyedVectors``` : It is basically an object which contains the mapping between words and embeddings.\n",
    "- ```word2vec``` : Word2vec is a group of related models that are used to produce word embeddings.\n",
    "- ```consine-similarity``` : It is used to measure distance or similarity between 2 vectors"
   ]
  },
  {
   "cell_type": "code",
   "execution_count": 2,
   "metadata": {},
   "outputs": [],
   "source": [
    "word_vectors = KeyedVectors.load_word2vec_format(\"GoogleNews-vectors-negative300.bin\", binary = True)"
   ]
  },
  {
   "cell_type": "code",
   "execution_count": 3,
   "metadata": {},
   "outputs": [],
   "source": [
    "vector_apple = word_vectors[\"apple\"]\n",
    "vector_mango = word_vectors[\"mango\"]"
   ]
  },
  {
   "cell_type": "code",
   "execution_count": 4,
   "metadata": {},
   "outputs": [
    {
     "name": "stdout",
     "output_type": "stream",
     "text": [
      "300\n",
      "300\n"
     ]
    }
   ],
   "source": [
    "print(len(vector_apple))\n",
    "print(len(vector_mango))"
   ]
  },
  {
   "cell_type": "code",
   "execution_count": 5,
   "metadata": {},
   "outputs": [
    {
     "name": "stdout",
     "output_type": "stream",
     "text": [
      "Cosine Similariy :  [[0.57518554]]\n"
     ]
    }
   ],
   "source": [
    "print(\"Cosine Similariy : \", cosine_similarity([vector_apple], [vector_mango]))"
   ]
  },
  {
   "cell_type": "markdown",
   "metadata": {},
   "source": [
    "## Odd One Out"
   ]
  },
  {
   "cell_type": "code",
   "execution_count": 6,
   "metadata": {},
   "outputs": [],
   "source": [
    "import numpy as np"
   ]
  },
  {
   "cell_type": "code",
   "execution_count": 7,
   "metadata": {},
   "outputs": [],
   "source": [
    "def odd_one_out(words):\n",
    "    '''Accepts a list of words and returns the odd word'''\n",
    "    vector_of_all_words = [word_vectors[word] for word in words] # Vector of all words\n",
    "    average_of_vector = np.mean(vector_of_all_words, axis = 0) # Taking average of values for each word\n",
    "    \n",
    "    odd_one_out = None\n",
    "    min_similarity = 1.00 # Initialize it with largest similar value to find out least similar value\n",
    "    \n",
    "    for word in words:\n",
    "        similarity = cosine_similarity([word_vectors[word]], [average_of_vector])\n",
    "        print(\"Similarity between {} and average vector is {}\".format(word, *similarity[0]))\n",
    "        \n",
    "        if similarity < min_similarity:\n",
    "            odd_one_out = word\n",
    "            min_similarity = similarity\n",
    "    return odd_one_out"
   ]
  },
  {
   "cell_type": "code",
   "execution_count": 8,
   "metadata": {},
   "outputs": [],
   "source": [
    "samples = [[\"apple\", \"banana\", \"papaya\", \"juice\", \"mango\"],\n",
    "          [\"lion\", \"tiger\", \"bear\", \"leopard\", \"cow\"],\n",
    "          [\"shirt\", \"pant\", \"socks\", \"belt\", \"gel\"]]"
   ]
  },
  {
   "cell_type": "code",
   "execution_count": 9,
   "metadata": {},
   "outputs": [
    {
     "name": "stdout",
     "output_type": "stream",
     "text": [
      "\n",
      "Similarity between apple and average vector is 0.7604138255119324\n",
      "Similarity between banana and average vector is 0.8231006860733032\n",
      "Similarity between papaya and average vector is 0.8096745610237122\n",
      "Similarity between juice and average vector is 0.6803286075592041\n",
      "Similarity between mango and average vector is 0.8520420789718628\n",
      "\n",
      "odd one out among apple, banana, papaya, juice, mango, is juice\n",
      "\n",
      "Similarity between lion and average vector is 0.7567413449287415\n",
      "Similarity between tiger and average vector is 0.8087022304534912\n",
      "Similarity between bear and average vector is 0.6764311194419861\n",
      "Similarity between leopard and average vector is 0.7845415472984314\n",
      "Similarity between cow and average vector is 0.6206676363945007\n",
      "\n",
      "odd one out among lion, tiger, bear, leopard, cow, is cow\n",
      "\n",
      "Similarity between shirt and average vector is 0.7422260642051697\n",
      "Similarity between pant and average vector is 0.707068920135498\n",
      "Similarity between socks and average vector is 0.7428838014602661\n",
      "Similarity between belt and average vector is 0.5915688276290894\n",
      "Similarity between gel and average vector is 0.5521659851074219\n",
      "\n",
      "odd one out among shirt, pant, socks, belt, gel, is gel\n"
     ]
    }
   ],
   "source": [
    "for sample in samples:\n",
    "    print()\n",
    "    print(\"\\nodd one out among {}, {}, {}, {}, {}, is {}\".format(*sample, odd_one_out(sample)))\n"
   ]
  },
  {
   "cell_type": "code",
   "execution_count": null,
   "metadata": {},
   "outputs": [],
   "source": []
  }
 ],
 "metadata": {
  "kernelspec": {
   "display_name": "Python 3",
   "language": "python",
   "name": "python3"
  },
  "language_info": {
   "codemirror_mode": {
    "name": "ipython",
    "version": 3
   },
   "file_extension": ".py",
   "mimetype": "text/x-python",
   "name": "python",
   "nbconvert_exporter": "python",
   "pygments_lexer": "ipython3",
   "version": "3.7.0"
  }
 },
 "nbformat": 4,
 "nbformat_minor": 4
}
